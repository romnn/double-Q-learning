{
 "cells": [
  {
   "cell_type": "code",
   "execution_count": 2,
   "id": "1690702d-a5c6-4d25-8810-a2b17c51a60a",
   "metadata": {},
   "outputs": [
    {
     "name": "stdout",
     "output_type": "stream",
     "text": [
      "The autoreload extension is already loaded. To reload it, use:\n",
      "  %reload_ext autoreload\n"
     ]
    }
   ],
   "source": [
    "%load_ext autoreload\n",
    "%autoreload 2\n",
    "\n",
    "import numpy as np\n",
    "import itertools\n",
    "from functools import partial\n",
    "from tqdm import tqdm\n",
    "import matplotlib.pyplot as plt\n",
    "\n",
    "import dql\n",
    "import utils\n",
    "import optim\n",
    "import policies\n",
    "\n",
    "import gym\n",
    "from gym import spaces\n",
    "from gym.utils import seeding"
   ]
  },
  {
   "cell_type": "code",
   "execution_count": 3,
   "id": "abfd1241-3f1c-4dc2-bb94-10bee0460e75",
   "metadata": {},
   "outputs": [],
   "source": [
    "%matplotlib inline"
   ]
  },
  {
   "cell_type": "code",
   "execution_count": 4,
   "id": "9029faa7-0409-4d27-bfd6-12bd980441f7",
   "metadata": {},
   "outputs": [],
   "source": [
    "# current considerations:\n",
    "\n",
    "# either my implementation\n",
    "# => self.probabilistic_actions = list(range(2, n_actions  + 2))   # i would like separate actions\n",
    "#   => action_q_values = q[state].copy()\n",
    "#   => action_q_values[~legal_actions] = np.nan\n",
    "#   => action = np.nanargmax(action_q_values)    # this breaks ties deterministically\n",
    "\n",
    "# or the one that reproduces results from the book (but does not make much sense to me)\n",
    "# this hill is only due to random tie breaking of the many probabilistic actions from B\n",
    "# due to the many actions, it takes longer for the Q values to closely approximate their true values\n",
    "# if (as in my implementation), nanargmax is just (equivilaent but deterministic tie breaking),\n",
    "# then the q value is learned faster and therefore the curves of q learning and double q learning look \n",
    "# a lot more similar, except for the fact that dql converges faster of course\n",
    "\n",
    "# => self.probabilistic_actions = list(range(n_actions))   # dont like it bc it includes LEFT and RIGHT\n",
    "# => np.random.choice(np.where(b == b.max())[0])          # this breaks ties randomly"
   ]
  },
  {
   "cell_type": "code",
   "execution_count": 5,
   "id": "1ec20f00-50d3-47a6-bac2-37fdaa12c523",
   "metadata": {},
   "outputs": [],
   "source": [
    "class ToyExampleEnv(gym.Env):\n",
    "    \"\"\" Toy example environment to illustrate the problem of maximization bias \"\"\"\n",
    "\n",
    "    metadata = {'render.modes': []}\n",
    "    \n",
    "    LEFT = 0\n",
    "    RIGHT = 1\n",
    "    \n",
    "    STATE_A = 0\n",
    "    STATE_B = 1\n",
    "    STATE_A_TERMINAL = 2\n",
    "    STATE_B_TERMINAL = 3\n",
    "    \n",
    "    INITIAL_STATE = STATE_A\n",
    "    TERMINAL_STATES = [STATE_A_TERMINAL, STATE_B_TERMINAL]\n",
    "\n",
    "    def __init__(self,  mu=-0.1, std=1, n_actions=10):\n",
    "        super().__init__()\n",
    "        self.mu = mu\n",
    "        self.std = std\n",
    "        \n",
    "        # self.probabilistic_actions = list(range(2, n_actions  + 2))\n",
    "        self.probabilistic_actions = list(range(n_actions))\n",
    "        \n",
    "        # define actions\n",
    "        self.actions = [self.LEFT, self.RIGHT] + self.probabilistic_actions\n",
    "        self.nA = len(self.actions)\n",
    "        self.action_space = spaces.Discrete(len(self.actions))\n",
    "        \n",
    "        # define states\n",
    "        self.state = self.INITIAL_STATE\n",
    "        self.states = [self.STATE_A, self.STATE_B, self.STATE_A_TERMINAL, self.STATE_B_TERMINAL]\n",
    "        self.nS = len(self.states)\n",
    "        \n",
    "        # there are no observations\n",
    "        self.observation_space = spaces.Discrete(len(self.states))\n",
    "        \n",
    "        self.state_transitions = {\n",
    "            self.STATE_A: {\n",
    "                self.LEFT: self.STATE_B,\n",
    "                self.RIGHT: self.STATE_A_TERMINAL,\n",
    "            },\n",
    "            self.STATE_B: {\n",
    "                a: self.STATE_B_TERMINAL for a in self.probabilistic_actions\n",
    "            },\n",
    "            self.STATE_A_TERMINAL: {\n",
    "                self.RIGHT: self.STATE_A_TERMINAL, # really does not matter which one\n",
    "            },\n",
    "            self.STATE_B_TERMINAL: {\n",
    "                self.LEFT: self.STATE_B_TERMINAL, # really does not matter which one\n",
    "            },\n",
    "        }\n",
    "        \n",
    "        self.np_random = None\n",
    "        self.seed()\n",
    "        self.reset()\n",
    "\n",
    "    def seed(self, seed=None):\n",
    "        self.np_random, seed = seeding.np_random(seed)\n",
    "        return seed\n",
    "        \n",
    "    def step(self, action):\n",
    "        assert self.action_space.contains(action)\n",
    "        legal_transitions = self.state_transitions.get(self.state, dict())\n",
    "        reward = 0\n",
    "        if action in legal_transitions:\n",
    "            if self.state == self.STATE_B:\n",
    "                reward = self.np_random.normal(self.mu, self.std)\n",
    "            self.state = legal_transitions[action]\n",
    "            \n",
    "        done = self.state in self.TERMINAL_STATES\n",
    "        return self.state, reward, done, {}\n",
    "    \n",
    "    def legal_actions(self, state):\n",
    "        legal_transitions = self.state_transitions.get(self.state, dict())\n",
    "        mask = np.zeros(self.nA, dtype=bool)\n",
    "        mask[list(legal_transitions.keys())] = True\n",
    "        return mask\n",
    "    \n",
    "    def reset(self):\n",
    "        self.state = self.INITIAL_STATE\n",
    "        return self.state"
   ]
  },
  {
   "cell_type": "code",
   "execution_count": 16,
   "id": "f2ede0e7-f298-460c-a3c8-4e194d6062a5",
   "metadata": {},
   "outputs": [],
   "source": [
    "params = dict(\n",
    "    num_episodes=300,\n",
    "    repetitions=1_00,\n",
    "    reduction=\"mean\",\n",
    "    # hyperparameters\n",
    "    discount_factor=1.0,\n",
    "    alpha=0.1,\n",
    "    epsilon=0.1,\n",
    ")\n",
    "\n",
    "env = ToyExampleEnv()"
   ]
  },
  {
   "cell_type": "code",
   "execution_count": 17,
   "id": "ec554e55-7618-4147-9fe7-a6d932ee3dcc",
   "metadata": {},
   "outputs": [],
   "source": [
    "def count_left_action_prob_callback(env, repetition, ep, state, action, result, **kwargs):\n",
    "    # print(repetition)\n",
    "    if state[0] == env.STATE_A and action == env.LEFT:\n",
    "        result[repetition,ep] += 1"
   ]
  },
  {
   "cell_type": "code",
   "execution_count": 18,
   "id": "4d1f109e-09a8-4df2-951d-aa18ce0848a8",
   "metadata": {},
   "outputs": [
    {
     "name": "stderr",
     "output_type": "stream",
     "text": [
      "100%|██████████| 100/100 [00:12<00:00,  7.88it/s]                                                                                                     \n",
      "100%|██████████| 100/100 [00:11<00:00,  8.40it/s]                                                                                                     \n"
     ]
    }
   ],
   "source": [
    "left_action_prob_q_learning = np.zeros((params[\"repetitions\"], params[\"num_episodes\"]))\n",
    "left_action_prob_dbl_q_learning = np.zeros((params[\"repetitions\"], params[\"num_episodes\"]))\n",
    "\n",
    "ep_lengths_q_learning, ep_returns_q_learning = optim.q_learning(\n",
    "    env,\n",
    "    callback=partial(count_left_action_prob_callback, result=left_action_prob_q_learning),\n",
    "    **params\n",
    ")\n",
    "ep_lengths_dbl_q_learning, ep_returns_dbl_q_learning = optim.double_q_learning(\n",
    "    env,\n",
    "    callback=partial(count_left_action_prob_callback, result=left_action_prob_dbl_q_learning),\n",
    "    **params\n",
    ")\n",
    "# ep_lengths_dbl_q_learning, ep_returns_dbl_q_learning = optim.double_q_learning(env, **params)\n",
    "\n",
    "left_action_prob_q_learning = left_action_prob_q_learning.mean(axis=0)\n",
    "left_action_prob_dbl_q_learning = left_action_prob_dbl_q_learning.mean(axis=0)\n",
    "# left_action_prob_q_learning\n",
    "# ).mean(axis=0) # .reshape(params[\"repetitions\"], -1)"
   ]
  },
  {
   "cell_type": "code",
   "execution_count": 19,
   "id": "04b50fdb-edd6-47b2-9189-b1dc0068ffa0",
   "metadata": {},
   "outputs": [
    {
     "data": {
      "image/png": "[encoded data removed]",
      "text/plain": [
       "<Figure size 1080x576 with 1 Axes>"
      ]
     },
     "metadata": {
      "needs_background": "light"
     },
     "output_type": "display_data"
    }
   ],
   "source": [
    "smoothing_radius = 20\n",
    "plt.figure(figsize=(15,8))\n",
    "plt.plot(\n",
    "    utils.smoothing_window(\n",
    "        left_action_prob_q_learning*100,\n",
    "        radius=smoothing_radius\n",
    "    ),\n",
    "    label='Q-Learning',\n",
    "    color=\"blue\",\n",
    ")\n",
    "plt.plot(\n",
    "    utils.smoothing_window(\n",
    "        left_action_prob_dbl_q_learning*100,\n",
    "        radius=smoothing_radius\n",
    "    ),\n",
    "    label='Double Q-Learning',\n",
    "    color=\"red\",\n",
    ")\n",
    "plt.hlines(xmin=0, xmax=params[\"num_episodes\"]-smoothing_radius, y=params[\"epsilon\"]/2, label='Optimal', color=\"gray\")\n",
    "plt.title('Left action probability for Q-Learning and Double Q-Learning')\n",
    "plt.legend()\n",
    "plt.tight_layout()\n",
    "plt.savefig(\"../figs/ql_vs_dql_toy_example.pdf\")\n",
    "plt.show()"
   ]
  },
  {
   "cell_type": "code",
   "execution_count": 10,
   "id": "b38829e3-1c85-47ef-9858-23d687855845",
   "metadata": {},
   "outputs": [
    {
     "name": "stderr",
     "output_type": "stream",
     "text": [
      "  0%|          | 0/2 [00:00<?, ?it/s]                                                                                                                 \n"
     ]
    },
    {
     "ename": "NameError",
     "evalue": "name 'reduction' is not defined",
     "output_type": "error",
     "traceback": [
      "\u001b[0;31m---------------------------------------------------------------------------\u001b[0m",
      "\u001b[0;31mNameError\u001b[0m                                 Traceback (most recent call last)",
      "\u001b[0;32m/var/folders/r0/g076kbw90cs5scw1k46_049r0000gn/T/ipykernel_97286/2159686227.py\u001b[0m in \u001b[0;36m<module>\u001b[0;34m\u001b[0m\n\u001b[1;32m      7\u001b[0m ):\n\u001b[1;32m      8\u001b[0m     \u001b[0mQ\u001b[0m \u001b[0;34m=\u001b[0m \u001b[0mnp\u001b[0m\u001b[0;34m.\u001b[0m\u001b[0mzeros\u001b[0m\u001b[0;34m(\u001b[0m\u001b[0;34m(\u001b[0m\u001b[0menv\u001b[0m\u001b[0;34m.\u001b[0m\u001b[0mnS\u001b[0m\u001b[0;34m,\u001b[0m \u001b[0menv\u001b[0m\u001b[0;34m.\u001b[0m\u001b[0mnA\u001b[0m\u001b[0;34m)\u001b[0m\u001b[0;34m)\u001b[0m\u001b[0;34m\u001b[0m\u001b[0;34m\u001b[0m\u001b[0m\n\u001b[0;32m----> 9\u001b[0;31m     \u001b[0mpolicy\u001b[0m \u001b[0;34m=\u001b[0m \u001b[0mpolicies\u001b[0m\u001b[0;34m.\u001b[0m\u001b[0mEpsilonGreedyPolicy\u001b[0m\u001b[0;34m(\u001b[0m\u001b[0mQ\u001b[0m\u001b[0;34m,\u001b[0m \u001b[0mepsilon\u001b[0m\u001b[0;34m=\u001b[0m\u001b[0mparams\u001b[0m\u001b[0;34m[\u001b[0m\u001b[0;34m\"epsilon\"\u001b[0m\u001b[0;34m]\u001b[0m\u001b[0;34m,\u001b[0m \u001b[0mreduction\u001b[0m\u001b[0;34m=\u001b[0m\u001b[0mreduction\u001b[0m\u001b[0;34m)\u001b[0m\u001b[0;34m\u001b[0m\u001b[0;34m\u001b[0m\u001b[0m\n\u001b[0m\u001b[1;32m     10\u001b[0m     \u001b[0mutils\u001b[0m\u001b[0;34m.\u001b[0m\u001b[0mseed\u001b[0m\u001b[0;34m(\u001b[0m\u001b[0menv\u001b[0m\u001b[0;34m,\u001b[0m \u001b[0mpolicy\u001b[0m\u001b[0;34m,\u001b[0m \u001b[0mseed\u001b[0m\u001b[0;34m=\u001b[0m\u001b[0;36m42\u001b[0m \u001b[0;34m+\u001b[0m \u001b[0mrepetition\u001b[0m\u001b[0;34m)\u001b[0m\u001b[0;34m\u001b[0m\u001b[0;34m\u001b[0m\u001b[0m\n\u001b[1;32m     11\u001b[0m \u001b[0;34m\u001b[0m\u001b[0m\n",
      "\u001b[0;31mNameError\u001b[0m: name 'reduction' is not defined"
     ]
    }
   ],
   "source": [
    "# todo: remove\n",
    "mean_left_action_prob_q_learning = []\n",
    "\n",
    "for repetition in tqdm(\n",
    "    range(params[\"repetitions\"]),\n",
    "    bar_format='{l_bar}{bar:10}{r_bar}{bar:-10b}',\n",
    "):\n",
    "    Q = np.zeros((env.nS, env.nA))\n",
    "    policy = policies.EpsilonGreedyPolicy(Q, epsilon=params[\"epsilon\"], reduction=reduction)\n",
    "    utils.seed(env, policy, seed=42 + repetition)\n",
    "    \n",
    "    episode_left_action_prob = np.zeros(params[\"num_episodes\"])\n",
    "    Q_q_learning, (_, _, ) = dql.q_learning(\n",
    "        env, policy, Q,\n",
    "        #num_episodes=num_episodes,\n",
    "        #discount_factor=discount_factor,\n",
    "        #alpha=alpha,\n",
    "        callback=partial(count_left_action_prob_callback, result=episode_left_action_prob),\n",
    "        **params,\n",
    "    )\n",
    "    assert np.max(episode_left_action_prob) <= 1\n",
    "    assert Q_q_learning[env.TERMINAL_STATES,:].sum() == 0\n",
    "    mean_left_action_prob_q_learning.append(episode_left_action_prob.copy())\n",
    "    \n",
    "mean_left_action_prob_q_learning = np.array(\n",
    "    mean_left_action_prob_q_learning\n",
    ").mean(axis=0)"
   ]
  },
  {
   "cell_type": "code",
   "execution_count": null,
   "id": "68853da0-8abe-4b68-b2b7-72b8cfaf2bd0",
   "metadata": {},
   "outputs": [],
   "source": [
    "# todo: remove\n",
    "mean_left_action_prob_double_q_learning = []\n",
    "\n",
    "for repetition in tqdm(\n",
    "    range(repetitions),\n",
    "    bar_format='{l_bar}{bar:10}{r_bar}{bar:-10b}',\n",
    "):\n",
    "    Q1 = np.zeros((env.nS, env.nA))\n",
    "    Q2 = np.zeros_like(Q1)\n",
    "    policy = policies.EpsilonGreedyPolicy(Q1, Q2, epsilon=epsilon, reduction=reduction)\n",
    "    utils.seed(env, policy, seed=42 + repetition)\n",
    "    \n",
    "    episode_left_action_prob = np.zeros(num_episodes)\n",
    "    Q_double_q_learning, _, _, (\n",
    "        _, _,\n",
    "    ) = dql.double_q_learning(\n",
    "        env, policy, Q1, Q2,\n",
    "        #num_episodes=num_episodes,\n",
    "        #discount_factor=discount_factor,\n",
    "        #alpha=alpha,\n",
    "        #reduction=reduction,\n",
    "        callback=partial(count_left_action_prob_callback, result=episode_left_action_prob),\n",
    "        **params,\n",
    "    )\n",
    "    assert np.max(episode_left_action_prob) <= 1\n",
    "    assert Q_double_q_learning[env.TERMINAL_STATES,:].sum() == 0\n",
    "    mean_left_action_prob_double_q_learning.append(episode_left_action_prob)\n",
    "\n",
    "mean_left_action_prob_double_q_learning = np.array(\n",
    "    mean_left_action_prob_double_q_learning\n",
    ").mean(axis=0)"
   ]
  },
  {
   "cell_type": "code",
   "execution_count": null,
   "id": "c2f7e1ae-16e7-4dc0-b031-d28d5b37cf0c",
   "metadata": {},
   "outputs": [],
   "source": [
    "# todo: remove\n",
    "smoothing_radius = 20\n",
    "plt.figure(figsize=(15,8))\n",
    "plt.plot(\n",
    "    utils.smoothing_window(\n",
    "        left_action_prob_q_learning*100,\n",
    "        radius=smoothing_radius\n",
    "    ),\n",
    "    label='Q-Learning',\n",
    "    color=\"blue\",\n",
    ")\n",
    "plt.plot(\n",
    "    utils.smoothing_window(\n",
    "        left_action_prob_q_learning*100,\n",
    "        radius=smoothing_radius\n",
    "    ),\n",
    "    label='Double Q-Learning',\n",
    "    color=\"red\",\n",
    ")\n",
    "plt.hlines(xmin=0, xmax=params[\"num_episodes\"]-smoothing_radius, y=params[\"epsilon\"]/2, label='Optimal', color=\"gray\")\n",
    "plt.title('Left action probability for Q-Learning and Double Q-Learning')\n",
    "plt.legend()\n",
    "plt.tight_layout()\n",
    "plt.savefig(\"../figs/ql_vs_dql_toy_example.pdf\")\n",
    "plt.show()"
   ]
  },
  {
   "cell_type": "code",
   "execution_count": null,
   "id": "39d11fff-0bb1-457a-aa74-96b387c4297b",
   "metadata": {},
   "outputs": [],
   "source": []
  },
  {
   "cell_type": "code",
   "execution_count": null,
   "id": "81ee3315-2ff8-4ff3-adb0-c7e35f174031",
   "metadata": {},
   "outputs": [],
   "source": []
  }
 ],
 "metadata": {
  "kernelspec": {
   "display_name": "Python 3 (ipykernel)",
   "language": "python",
   "name": "python3"
  },
  "language_info": {
   "codemirror_mode": {
    "name": "ipython",
    "version": 3
   },
   "file_extension": ".py",
   "mimetype": "text/x-python",
   "name": "python",
   "nbconvert_exporter": "python",
   "pygments_lexer": "ipython3",
   "version": "3.8.2"
  }
 },
 "nbformat": 4,
 "nbformat_minor": 5
}
