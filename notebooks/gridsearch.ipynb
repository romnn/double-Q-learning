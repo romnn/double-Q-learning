{
 "cells": [
  {
   "cell_type": "code",
   "execution_count": 75,
   "id": "ffef2bb3-63bb-4fbb-a44c-3040ae79366c",
   "metadata": {},
   "outputs": [
    {
     "name": "stdout",
     "output_type": "stream",
     "text": [
      "The autoreload extension is already loaded. To reload it, use:\n",
      "  %reload_ext autoreload\n"
     ]
    }
   ],
   "source": [
    "%load_ext autoreload\n",
    "%autoreload 2\n",
    "\n",
    "from pathlib import Path\n",
    "import pickle as pkl\n",
    "import numpy as np\n",
    "import json\n",
    "import utils\n",
    "import envs\n",
    "import plots\n",
    "import optim\n",
    "import gym"
   ]
  },
  {
   "cell_type": "code",
   "execution_count": 76,
   "id": "c4ecae71-b12f-4779-928c-e6b02bca0f78",
   "metadata": {},
   "outputs": [
    {
     "name": "stdout",
     "output_type": "stream",
     "text": [
      "4 16\n"
     ]
    }
   ],
   "source": [
    "# env, env_params = (envs.taxi, dict(repetitions=10, num_episodes=500))\n",
    "env, env_params = (envs.frozenlake, dict(repetitions=10, num_episodes=5_000))\n",
    "# env, env_params = (envs.blackjack, dict(repetitions=100, num_episodes=3000))\n",
    "print(env.nA, env.nS)"
   ]
  },
  {
   "cell_type": "code",
   "execution_count": 77,
   "id": "de8c693a-a9e4-4ef2-9d06-6cd14aa5532d",
   "metadata": {},
   "outputs": [],
   "source": [
    "def grid_search(\n",
    "    env,\n",
    "    optimizer,\n",
    "    alpha_range,\n",
    "    epsilon,\n",
    "    discount_factor,\n",
    "    reduction,\n",
    "    repetitions,\n",
    "    num_episodes,\n",
    "    out_file=None,\n",
    "):\n",
    "    experiment = {\n",
    "        \"environment\": env.unwrapped.spec.id,\n",
    "        \"optimizer\": optimizer.__name__,\n",
    "        \"num_episodes\": num_episodes,\n",
    "        \"repetitions\": repetitions\n",
    "    }\n",
    "    results = {}\n",
    "    \n",
    "    best_alpha = None\n",
    "    best_return = -np.inf\n",
    "    \n",
    "    for alpha in alpha_range:\n",
    "        params = dict(\n",
    "            num_episodes = num_episodes,\n",
    "            repetitions = repetitions,\n",
    "            reduction = reduction,\n",
    "            discount_factor=discount_factor,\n",
    "            alpha=alpha,\n",
    "            epsilon=epsilon,\n",
    "        )\n",
    "        \n",
    "        ep_lengths, ep_returns = optimizer(env, **params)\n",
    "        results[alpha] = {\n",
    "            \"episode_lengths\": ep_lengths,\n",
    "            \"episode_returns\": ep_returns\n",
    "        }\n",
    "        \n",
    "        # mean of last 5% of the rewards\n",
    "        return_at_end = ep_returns[:,-int(num_episodes*0.05):].mean()\n",
    "        print(f\"[INFO]: Return for alpha {alpha}: {return_at_end}\") \n",
    "        if return_at_end > best_return:\n",
    "            best_return = return_at_end\n",
    "            best_alpha = alpha\n",
    "    \n",
    "    experiment[\"best_alpha\"] = best_alpha\n",
    "    print(\"best alpha value: %.2f (reward %.2f)\" % (best_alpha, best_return))\n",
    "    \n",
    "    if out_file:\n",
    "        out_file = Path(out_file)\n",
    "        out_file.parent.mkdir(parents=True, exist_ok=True)\n",
    "        with open(out_file.with_suffix(\".json\"), 'w') as f:\n",
    "            json.dump(experiment, f)\n",
    "        with open(out_file.with_suffix(\".pkl\"), 'wb') as f:\n",
    "            experiment[\"results\"] = results\n",
    "            pkl.dump(experiment, f)"
   ]
  },
  {
   "cell_type": "code",
   "execution_count": 78,
   "id": "05208dde-9335-46a9-bcd3-a051ca7e2ff7",
   "metadata": {},
   "outputs": [
    {
     "name": "stderr",
     "output_type": "stream",
     "text": [
      "100%|██████████| 10/10 [01:46<00:00, 10.62s/it]                                                                                                       \n"
     ]
    },
    {
     "name": "stdout",
     "output_type": "stream",
     "text": [
      "[INFO]: Return for alpha 0.05: 0.3528\n"
     ]
    },
    {
     "name": "stderr",
     "output_type": "stream",
     "text": [
      "100%|██████████| 10/10 [02:20<00:00, 14.07s/it]                                                                                                       \n"
     ]
    },
    {
     "name": "stdout",
     "output_type": "stream",
     "text": [
      "[INFO]: Return for alpha 0.1: 0.39\n"
     ]
    },
    {
     "name": "stderr",
     "output_type": "stream",
     "text": [
      "100%|██████████| 10/10 [02:24<00:00, 14.47s/it]                                                                                                       \n"
     ]
    },
    {
     "name": "stdout",
     "output_type": "stream",
     "text": [
      "[INFO]: Return for alpha 0.15000000000000002: 0.3672\n"
     ]
    },
    {
     "name": "stderr",
     "output_type": "stream",
     "text": [
      "100%|██████████| 10/10 [02:26<00:00, 14.65s/it]                                                                                                       \n"
     ]
    },
    {
     "name": "stdout",
     "output_type": "stream",
     "text": [
      "[INFO]: Return for alpha 0.2: 0.3764\n"
     ]
    },
    {
     "name": "stderr",
     "output_type": "stream",
     "text": [
      "100%|██████████| 10/10 [02:24<00:00, 14.44s/it]                                                                                                       \n"
     ]
    },
    {
     "name": "stdout",
     "output_type": "stream",
     "text": [
      "[INFO]: Return for alpha 0.25: 0.3516\n",
      "best alpha value: 0.10 (reward 0.39)\n"
     ]
    },
    {
     "name": "stderr",
     "output_type": "stream",
     "text": [
      "100%|██████████| 10/10 [01:09<00:00,  7.00s/it]                                                                                                       \n"
     ]
    },
    {
     "name": "stdout",
     "output_type": "stream",
     "text": [
      "[INFO]: Return for alpha 0.05: 0.1832\n"
     ]
    },
    {
     "name": "stderr",
     "output_type": "stream",
     "text": [
      "100%|██████████| 10/10 [01:41<00:00, 10.14s/it]                                                                                                       \n"
     ]
    },
    {
     "name": "stdout",
     "output_type": "stream",
     "text": [
      "[INFO]: Return for alpha 0.1: 0.3368\n"
     ]
    },
    {
     "name": "stderr",
     "output_type": "stream",
     "text": [
      "100%|██████████| 10/10 [01:41<00:00, 10.14s/it]                                                                                                       \n"
     ]
    },
    {
     "name": "stdout",
     "output_type": "stream",
     "text": [
      "[INFO]: Return for alpha 0.15000000000000002: 0.3144\n"
     ]
    },
    {
     "name": "stderr",
     "output_type": "stream",
     "text": [
      "100%|██████████| 10/10 [01:39<00:00,  9.99s/it]                                                                                                       \n"
     ]
    },
    {
     "name": "stdout",
     "output_type": "stream",
     "text": [
      "[INFO]: Return for alpha 0.2: 0.2644\n"
     ]
    },
    {
     "name": "stderr",
     "output_type": "stream",
     "text": [
      "100%|██████████| 10/10 [01:25<00:00,  8.54s/it]                                                                                                       "
     ]
    },
    {
     "name": "stdout",
     "output_type": "stream",
     "text": [
      "[INFO]: Return for alpha 0.25: 0.1492\n",
      "best alpha value: 0.10 (reward 0.34)\n",
      "done\n"
     ]
    },
    {
     "name": "stderr",
     "output_type": "stream",
     "text": [
      "\n"
     ]
    }
   ],
   "source": [
    "params = dict(\n",
    "    alpha_range=np.linspace(0.05, 0.25, 5),\n",
    "    epsilon=0.1,\n",
    "    discount_factor=0.99, \n",
    "    reduction=\"mean\",\n",
    ")\n",
    "params = {**params, **env_params}\n",
    "\n",
    "grid_search(\n",
    "    env,\n",
    "    optimizer=optim.q_learning,\n",
    "    out_file=f\"../gridsearch/{env.unwrapped.spec.id}_q_learning.json\",\n",
    "    **params,\n",
    ")\n",
    "grid_search(\n",
    "    env,\n",
    "    optimizer=optim.double_q_learning,\n",
    "    out_file=f\"../gridsearch/{env.unwrapped.spec.id}_double_q_learning.json\",\n",
    "    **params,\n",
    ")\n",
    "print(\"done\")"
   ]
  },
  {
   "cell_type": "code",
   "execution_count": null,
   "id": "a7ac2a70-c432-4610-a35d-cd84e7a80b3e",
   "metadata": {},
   "outputs": [],
   "source": []
  },
  {
   "cell_type": "code",
   "execution_count": null,
   "id": "5f5f5941-7578-4561-83a8-f1fd747a83ce",
   "metadata": {},
   "outputs": [],
   "source": []
  }
 ],
 "metadata": {
  "kernelspec": {
   "display_name": "Python 3 (ipykernel)",
   "language": "python",
   "name": "python3"
  },
  "language_info": {
   "codemirror_mode": {
    "name": "ipython",
    "version": 3
   },
   "file_extension": ".py",
   "mimetype": "text/x-python",
   "name": "python",
   "nbconvert_exporter": "python",
   "pygments_lexer": "ipython3",
   "version": "3.8.2"
  }
 },
 "nbformat": 4,
 "nbformat_minor": 5
}
