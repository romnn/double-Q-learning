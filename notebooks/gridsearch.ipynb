{
 "cells": [
  {
   "cell_type": "code",
   "execution_count": null,
   "id": "ffef2bb3-63bb-4fbb-a44c-3040ae79366c",
   "metadata": {},
   "outputs": [],
   "source": []
  },
  {
   "cell_type": "code",
   "execution_count": 1,
   "id": "de8c693a-a9e4-4ef2-9d06-6cd14aa5532d",
   "metadata": {},
   "outputs": [],
   "source": [
    "def grid_search(\n",
    "    env,\n",
    "    method,\n",
    "    alpha_range,\n",
    "    epsilon,\n",
    "    discount_factor,\n",
    "    reduction,\n",
    "    repetitions,\n",
    "    num_episodes,\n",
    "    file_name\n",
    "):\n",
    "    experiment = {\n",
    "        \"environment\": env.__class__.__name__,\n",
    "        \"method\": method.__name__,\n",
    "        \"num_episodes\": num_episodes,\n",
    "        \"repetitions\": repetitions\n",
    "    }\n",
    "    results = {}\n",
    "    \n",
    "    best_alpha = None\n",
    "    best_return = -np.inf\n",
    "    \n",
    "    for alpha in alpha_range:\n",
    "        episode_lengths, _, episode_returns, _ = method(\n",
    "            env, epsilon, discount_factor, alpha, reduction, repetitions, num_episodes)\n",
    "        results[alpha] = {\n",
    "            \"episode_lengths\": episode_lengths,\n",
    "            \"episode_returns\": episode_returns\n",
    "        }\n",
    "        \n",
    "        if episode_returns[-1] > best_return:\n",
    "            best_return = episode_returns[-1]\n",
    "            best_alpha = alpha\n",
    "    \n",
    "    experiment[\"results\"] = results\n",
    "    experiment[\"best_alpha\"] = best_alpha\n",
    "    print(\"Best alpha value: %.2f (reward %d)\" % (best_alpha, best_return))\n",
    "    \n",
    "    with open(file_name, 'wb') as f:\n",
    "        pickle.dump(experiment, f)"
   ]
  },
  {
   "cell_type": "code",
   "execution_count": null,
   "id": "05208dde-9335-46a9-bcd3-a051ca7e2ff7",
   "metadata": {},
   "outputs": [],
   "source": [
    "grid_search(env, q_learning_loop, np.linspace(0.1, 0.2, 2), 0.1, 1.0, \n",
    "           reduction, repetitions, num_episodes, \"../taxi_q_learning.p\")"
   ]
  }
 ],
 "metadata": {
  "kernelspec": {
   "display_name": "Python 3 (ipykernel)",
   "language": "python",
   "name": "python3"
  },
  "language_info": {
   "codemirror_mode": {
    "name": "ipython",
    "version": 3
   },
   "file_extension": ".py",
   "mimetype": "text/x-python",
   "name": "python",
   "nbconvert_exporter": "python",
   "pygments_lexer": "ipython3",
   "version": "3.8.2"
  }
 },
 "nbformat": 4,
 "nbformat_minor": 5
}
