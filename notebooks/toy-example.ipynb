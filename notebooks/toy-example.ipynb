{
 "cells": [
  {
   "cell_type": "code",
   "execution_count": 42,
   "id": "1690702d-a5c6-4d25-8810-a2b17c51a60a",
   "metadata": {},
   "outputs": [
    {
     "name": "stdout",
     "output_type": "stream",
     "text": [
      "The autoreload extension is already loaded. To reload it, use:\n",
      "  %reload_ext autoreload\n"
     ]
    }
   ],
   "source": [
    "%load_ext autoreload\n",
    "%autoreload 2\n",
    "\n",
    "import numpy as np\n",
    "import itertools\n",
    "from functools import partial\n",
    "from tqdm import tqdm\n",
    "import matplotlib.pyplot as plt\n",
    "\n",
    "import dql\n",
    "import utils\n",
    "import optim\n",
    "import policies\n",
    "import plots\n",
    "\n",
    "import gym\n",
    "from gym import spaces\n",
    "from gym.utils import seeding"
   ]
  },
  {
   "cell_type": "code",
   "execution_count": 43,
   "id": "abfd1241-3f1c-4dc2-bb94-10bee0460e75",
   "metadata": {},
   "outputs": [],
   "source": [
    "%matplotlib inline"
   ]
  },
  {
   "cell_type": "code",
   "execution_count": 45,
   "id": "1ec20f00-50d3-47a6-bac2-37fdaa12c523",
   "metadata": {},
   "outputs": [],
   "source": [
    "class ToyExampleEnv(gym.Env):\n",
    "    \"\"\" Toy example environment to illustrate the problem of maximization bias \"\"\"\n",
    "\n",
    "    metadata = {'render.modes': []}\n",
    "    \n",
    "    LEFT = 0\n",
    "    RIGHT = 1\n",
    "    \n",
    "    STATE_A = 0\n",
    "    STATE_B = 1\n",
    "    STATE_A_TERMINAL = 2\n",
    "    STATE_B_TERMINAL = 3\n",
    "    \n",
    "    INITIAL_STATE = STATE_A\n",
    "    TERMINAL_STATES = [STATE_A_TERMINAL, STATE_B_TERMINAL]\n",
    "\n",
    "    def __init__(self,  mu=-0.1, std=1, n_actions=10):\n",
    "        super().__init__()\n",
    "        self.mu = mu\n",
    "        self.std = std\n",
    "        \n",
    "        # self.probabilistic_actions = list(range(2, n_actions  + 2))\n",
    "        self.probabilistic_actions = list(range(n_actions))\n",
    "        \n",
    "        # define actions\n",
    "        self.actions = [self.LEFT, self.RIGHT] + self.probabilistic_actions\n",
    "        self.nA = len(self.actions)\n",
    "        self.action_space = spaces.Discrete(len(self.actions))\n",
    "        \n",
    "        # define states\n",
    "        self.state = self.INITIAL_STATE\n",
    "        self.states = [self.STATE_A, self.STATE_B, self.STATE_A_TERMINAL, self.STATE_B_TERMINAL]\n",
    "        self.nS = len(self.states)\n",
    "        \n",
    "        # there are no observations\n",
    "        self.observation_space = spaces.Discrete(len(self.states))\n",
    "        \n",
    "        self.state_transitions = {\n",
    "            self.STATE_A: {\n",
    "                self.LEFT: self.STATE_B,\n",
    "                self.RIGHT: self.STATE_A_TERMINAL,\n",
    "            },\n",
    "            self.STATE_B: {\n",
    "                a: self.STATE_B_TERMINAL for a in self.probabilistic_actions\n",
    "            },\n",
    "            self.STATE_A_TERMINAL: {\n",
    "                self.RIGHT: self.STATE_A_TERMINAL, # really does not matter which one\n",
    "            },\n",
    "            self.STATE_B_TERMINAL: {\n",
    "                self.LEFT: self.STATE_B_TERMINAL, # really does not matter which one\n",
    "            },\n",
    "        }\n",
    "        \n",
    "        self.np_random = None\n",
    "        self.seed()\n",
    "        self.reset()\n",
    "\n",
    "    def seed(self, seed=None):\n",
    "        self.np_random, seed = seeding.np_random(seed)\n",
    "        return seed\n",
    "        \n",
    "    def step(self, action):\n",
    "        assert self.action_space.contains(action)\n",
    "        legal_transitions = self.state_transitions.get(self.state, dict())\n",
    "        reward = 0\n",
    "        if action in legal_transitions:\n",
    "            if self.state == self.STATE_B:\n",
    "                reward = self.np_random.normal(self.mu, self.std)\n",
    "            self.state = legal_transitions[action]\n",
    "            \n",
    "        done = self.state in self.TERMINAL_STATES\n",
    "        return self.state, reward, done, {}\n",
    "    \n",
    "    def legal_actions(self, state):\n",
    "        legal_transitions = self.state_transitions.get(self.state, dict())\n",
    "        mask = np.zeros(self.nA, dtype=bool)\n",
    "        mask[list(legal_transitions.keys())] = True\n",
    "        return mask\n",
    "    \n",
    "    def reset(self):\n",
    "        self.state = self.INITIAL_STATE\n",
    "        return self.state"
   ]
  },
  {
   "cell_type": "code",
   "execution_count": 46,
   "id": "f2ede0e7-f298-460c-a3c8-4e194d6062a5",
   "metadata": {},
   "outputs": [],
   "source": [
    "params = dict(\n",
    "    num_episodes=300,\n",
    "    repetitions=10_000,\n",
    "    reduction=\"mean\",\n",
    "    # hyperparameters\n",
    "    discount_factor=0.99,\n",
    "    alpha=0.1,\n",
    "    epsilon=0.1,\n",
    ")\n",
    "\n",
    "env = ToyExampleEnv()"
   ]
  },
  {
   "cell_type": "code",
   "execution_count": 47,
   "id": "ec554e55-7618-4147-9fe7-a6d932ee3dcc",
   "metadata": {},
   "outputs": [],
   "source": [
    "def count_left_action_prob_callback(env, repetition, ep, state, action, result, **kwargs):\n",
    "    if state[0] == env.STATE_A and action == env.LEFT:\n",
    "        result[repetition,ep] += 1"
   ]
  },
  {
   "cell_type": "code",
   "execution_count": 48,
   "id": "4d1f109e-09a8-4df2-951d-aa18ce0848a8",
   "metadata": {},
   "outputs": [
    {
     "name": "stderr",
     "output_type": "stream",
     "text": [
      "100%|██████████| 10000/10000 [08:13<00:00, 20.25it/s]                                                                                                 \n",
      "100%|██████████| 10000/10000 [06:49<00:00, 24.41it/s]                                                                                                 \n"
     ]
    }
   ],
   "source": [
    "left_action_prob_q_learning = np.zeros((params[\"repetitions\"], params[\"num_episodes\"]))\n",
    "left_action_prob_dbl_q_learning = np.zeros((params[\"repetitions\"], params[\"num_episodes\"]))\n",
    "\n",
    "ep_lengths_q_learning, ep_returns_q_learning = optim.q_learning(\n",
    "    env,\n",
    "    callback=partial(count_left_action_prob_callback, result=left_action_prob_q_learning),\n",
    "    **params\n",
    ")\n",
    "ep_lengths_dbl_q_learning, ep_returns_dbl_q_learning = optim.double_q_learning(\n",
    "    env,\n",
    "    callback=partial(count_left_action_prob_callback, result=left_action_prob_dbl_q_learning),\n",
    "    **params\n",
    ")"
   ]
  },
  {
   "cell_type": "code",
   "execution_count": 57,
   "id": "ab4af061-d637-418a-b05e-27b0e9ff3b68",
   "metadata": {},
   "outputs": [
    {
     "data": {
      "image/png": "[encoded data removed]",
      "text/plain": [
       "<Figure size 576x288 with 1 Axes>"
      ]
     },
     "metadata": {
      "needs_background": "light"
     },
     "output_type": "display_data"
    }
   ],
   "source": [
    "smoothing_radius = 20\n",
    "confidence_band_scale=0.15\n",
    "\n",
    "fig, ax = plots.plot_values([\n",
    "        (dict(label=\"Q-Learning\", color=\"blue\"), left_action_prob_q_learning),\n",
    "        (dict(label=\"Double Q-Learning\", color=\"red\"), left_action_prob_dbl_q_learning),\n",
    "    ],\n",
    "    smoothing_radius=smoothing_radius,\n",
    "    title=\"Left action probability\",\n",
    "    confidence_band_scale=confidence_band_scale,\n",
    "    legend=True,\n",
    "    xlabel=\"Episodes\", ylabel=\"Left action probability\",\n",
    "    show=False,\n",
    ")\n",
    "ax.hlines(xmin=0, xmax=params[\"num_episodes\"]-smoothing_radius, y=params[\"epsilon\"]/2,\n",
    "          label='Optimal', color=\"gray\")\n",
    "plt.legend(fontsize=plots.MEDIUM_FONTSIZE)\n",
    "plt.tight_layout()\n",
    "plt.savefig(\"../figs/ql_vs_dql_toy_example.pdf\")\n",
    "plt.show()"
   ]
  },
  {
   "cell_type": "code",
   "execution_count": null,
   "id": "d2cb36ce-b648-4481-a6ba-7f6df7038c8d",
   "metadata": {},
   "outputs": [],
   "source": []
  }
 ],
 "metadata": {
  "kernelspec": {
   "display_name": "Python 3 (ipykernel)",
   "language": "python",
   "name": "python3"
  },
  "language_info": {
   "codemirror_mode": {
    "name": "ipython",
    "version": 3
   },
   "file_extension": ".py",
   "mimetype": "text/x-python",
   "name": "python",
   "nbconvert_exporter": "python",
   "pygments_lexer": "ipython3",
   "version": "3.8.2"
  }
 },
 "nbformat": 4,
 "nbformat_minor": 5
}
